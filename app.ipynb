{
 "cells": [
  {
   "cell_type": "code",
   "execution_count": null,
   "id": "initial_id",
   "metadata": {
    "collapsed": true
   },
   "outputs": [],
   "source": [
    "import manager\n",
    "import re\n",
    "from config_reader import mongo_development, mongo_integration, mongo_local, mongo_local_backup\n",
    "from database import DataBase\n"
   ]
  },
  {
   "cell_type": "code",
   "execution_count": null,
   "outputs": [],
   "source": [
    "# Connect to dbs\n",
    "development_db = DataBase(mongo_development)\n",
    "local_db = DataBase(mongo_local)\n",
    "localbackup_db = DataBase(mongo_local_backup)\n",
    "integration_db = DataBase(mongo_integration)"
   ],
   "metadata": {
    "collapsed": false
   },
   "id": "78bbaa189c667a1e"
  },
  {
   "cell_type": "markdown",
   "source": [
    "# Delete docs by name"
   ],
   "metadata": {
    "collapsed": false
   },
   "id": "a3c49daa77de8f11"
  },
  {
   "cell_type": "code",
   "execution_count": null,
   "outputs": [],
   "source": [
    "collection = integration_db.get_collection(collection_name='')\n",
    "substring_to_delete = \"\"\n",
    "regex_pattern = re.compile(substring_to_delete, re.IGNORECASE)\n",
    "query = {\"\": {\"$regex\": regex_pattern}}\n",
    "result = collection.delete_many(query)"
   ],
   "metadata": {
    "collapsed": false
   },
   "id": "5d7268b9bf890af2"
  },
  {
   "cell_type": "markdown",
   "source": [
    "# Transfer database"
   ],
   "metadata": {
    "collapsed": false
   },
   "id": "e447086d845dadad"
  },
  {
   "cell_type": "code",
   "execution_count": null,
   "outputs": [],
   "source": [
    "manager.transfer_complete_collection_with_backup(origin_db=development_db, origin_collection_name='',\n",
    "                                                 target_db=integration_db, target_collection_name='',\n",
    "                                                 backup_db=localbackup_db,\n",
    "                                                 delete_previous_docs=True)"
   ],
   "metadata": {
    "collapsed": false
   },
   "id": "eb986e7dc530d13"
  },
  {
   "cell_type": "markdown",
   "source": [
    "# Add new field to complete collection"
   ],
   "metadata": {
    "collapsed": false
   },
   "id": "ae2728e973e7c5b0"
  },
  {
   "cell_type": "code",
   "execution_count": null,
   "outputs": [],
   "source": [
    "manager.add_new_field_to_complete_collection_with_backup(origin_db=development_db,\n",
    "                                                         origin_collection_name='',\n",
    "                                                         new_field_name='',\n",
    "                                                         new_field_value=0,\n",
    "                                                         backup_db=localbackup_db)"
   ],
   "metadata": {
    "collapsed": false
   },
   "id": "8d55c22d394ed62c"
  },
  {
   "cell_type": "markdown",
   "source": [
    "# Transfer DB collection"
   ],
   "metadata": {
    "collapsed": false
   },
   "id": "329f513074a5b3dc"
  },
  {
   "cell_type": "code",
   "execution_count": null,
   "outputs": [],
   "source": [
    "manager.transfer_complete_collection(origin_db=development_db, origin_collection_name='',\n",
    "                                     target_db=localbackup_db, target_collection_name='',\n",
    "                                     delete_previous_docs=True)"
   ],
   "metadata": {
    "collapsed": false
   },
   "id": "9e8a9f5839353366"
  },
  {
   "cell_type": "code",
   "execution_count": null,
   "outputs": [],
   "source": [
    "manager.transfer_complete_collection(origin_db=development_db, origin_collection_name='',\n",
    "                                     target_db=integration_db, target_collection_name='',\n",
    "                                     delete_previous_docs=True)"
   ],
   "metadata": {
    "collapsed": false
   },
   "id": "bafbb1ac07a822c6"
  },
  {
   "cell_type": "markdown",
   "source": [],
   "metadata": {
    "collapsed": false
   },
   "id": "9a787e040c194127"
  },
  {
   "cell_type": "markdown",
   "source": [
    "# Delete collection"
   ],
   "metadata": {
    "collapsed": false
   },
   "id": "72a8d26e68867801"
  },
  {
   "cell_type": "code",
   "execution_count": null,
   "outputs": [],
   "source": [
    "integration_db.delete_all_docs_in_collection('')\n",
    "integration_db.delete_all_docs_in_collection('')"
   ],
   "metadata": {
    "collapsed": false
   },
   "id": "7435ee552afec4de"
  }
 ],
 "metadata": {
  "kernelspec": {
   "display_name": "Python 3",
   "language": "python",
   "name": "python3"
  },
  "language_info": {
   "codemirror_mode": {
    "name": "ipython",
    "version": 2
   },
   "file_extension": ".py",
   "mimetype": "text/x-python",
   "name": "python",
   "nbconvert_exporter": "python",
   "pygments_lexer": "ipython2",
   "version": "2.7.6"
  }
 },
 "nbformat": 4,
 "nbformat_minor": 5
}

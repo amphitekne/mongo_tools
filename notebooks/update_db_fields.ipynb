{
 "cells": [
  {
   "cell_type": "code",
   "execution_count": 5,
   "metadata": {},
   "outputs": [],
   "source": [
    "import os\n",
    "os.getcwd()\n",
    "os.chdir(\"/app\")"
   ]
  },
  {
   "cell_type": "code",
   "execution_count": 6,
   "metadata": {},
   "outputs": [],
   "source": [
    "import manager\n",
    "from config_reader import get_configuration\n",
    "from database import DataBase"
   ]
  },
  {
   "cell_type": "markdown",
   "metadata": {},
   "source": [
    "# Load DB"
   ]
  },
  {
   "cell_type": "code",
   "execution_count": 9,
   "metadata": {},
   "outputs": [
    {
     "data": {
      "text/plain": [
       "{'alias': 'azure-dev',\n",
       " 'uri': None,\n",
       " 'host': {'ip': '4.210.227.236',\n",
       "  'user_name': 'piaadmin',\n",
       "  'password': '02Octubre2023',\n",
       "  'local_port': None},\n",
       " 'mongo': {'db_name': 'NextPI_Dev',\n",
       "  'username': 'piaadmin',\n",
       "  'password': '02Octubre2023',\n",
       "  'authentication_source': 'admin'}}"
      ]
     },
     "execution_count": 9,
     "metadata": {},
     "output_type": "execute_result"
    }
   ],
   "source": [
    "source_db_config = get_configuration(alias=\"db_alias\")\n",
    "source_db = DataBase(source_db_config)"
   ]
  },
  {
   "cell_type": "markdown",
   "metadata": {},
   "source": [
    "# Remove field from collection"
   ]
  },
  {
   "cell_type": "code",
   "execution_count": null,
   "metadata": {},
   "outputs": [],
   "source": [
    "fields_to_remove = [(\"collection_name\", \"field_name\"), (\"collection_name\", \"field_name\")]"
   ]
  },
  {
   "cell_type": "code",
   "execution_count": null,
   "metadata": {},
   "outputs": [],
   "source": [
    "for collection, field_name in fields_to_remove:\n",
    "    manager.remove_field_to_collection(origin_db=source_db, origin_collection_name=collection,\n",
    "                                                field_name=field_name, )"
   ]
  },
  {
   "cell_type": "markdown",
   "metadata": {},
   "source": [
    "# Add a new field to collection"
   ]
  },
  {
   "cell_type": "code",
   "execution_count": null,
   "metadata": {},
   "outputs": [],
   "source": [
    "# (\"collection_name\", \"field_name\", \"value\")\n",
    "fields_to_add = [\n",
    "    (\"collection_name\", \"field_name\", \"hello\"),\n",
    "    (\"collection_name\", \"field_name\", None),\n",
    "    (\"collection_name\", \"field_name\", 74.0),\n",
    "    (\n",
    "        \"collection_name\",\n",
    "        \"field_name\",\n",
    "        {\n",
    "            \"xx\": 0,\n",
    "            \"yy\": 0,\n",
    "            \"zz\": 0,\n",
    "            \"ss\": 0,\n",
    "        },\n",
    "    ),\n",
    "    (\"collection_name\", \"field_name\", True),\n",
    "]"
   ]
  },
  {
   "cell_type": "code",
   "execution_count": null,
   "metadata": {},
   "outputs": [],
   "source": [
    "for collection, field_name, field_value in fields_to_add:\n",
    "    manager.add_new_field_to_collection(origin_db=source_db, origin_collection_name=collection,\n",
    "                                                    new_field_name=field_name, new_field_value=field_value)\n"
   ]
  }
 ],
 "metadata": {
  "kernelspec": {
   "display_name": "Python 3 (ipykernel)",
   "language": "python",
   "name": "python3"
  },
  "language_info": {
   "codemirror_mode": {
    "name": "ipython",
    "version": 3
   },
   "file_extension": ".py",
   "mimetype": "text/x-python",
   "name": "python",
   "nbconvert_exporter": "python",
   "pygments_lexer": "ipython3",
   "version": "3.10.14"
  }
 },
 "nbformat": 4,
 "nbformat_minor": 4
}
